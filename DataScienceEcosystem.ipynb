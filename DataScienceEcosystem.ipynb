{
 "cells": [
  {
   "cell_type": "markdown",
   "id": "1e892048-0496-4efe-95fa-cb0689eeee73",
   "metadata": {},
   "source": [
    "# Data Science Tools and Ecosystem"
   ]
  },
  {
   "cell_type": "markdown",
   "id": "3910c070-cee0-48d4-a8d2-510830da4ede",
   "metadata": {},
   "source": [
    "## Introdution\n",
    "In this notebook, Data Science Tools and Ecosystem are summarized."
   ]
  },
  {
   "cell_type": "markdown",
   "id": "4bb6d607-b7b8-4865-86c9-de9cfae861d7",
   "metadata": {},
   "source": [
    "## Main content of the course\n",
    "Objectives:\n",
    "- Data Science Language\n",
    "- List Data Science Libraries\n",
    "- Data Science Tools\n",
    "- Arithmetic Expressions in Python"
   ]
  },
  {
   "cell_type": "markdown",
   "id": "e5ee2c11-b1ea-4f5d-a83e-02847dc0155b",
   "metadata": {},
   "source": [
    "## Data Science Languages\n",
    "Some of the popular languages that Data Scientists use are:\n",
    "1. Python\n",
    "2. R\n",
    "3. Java\n",
    "4. JavaScipt\n",
    "5. C++"
   ]
  },
  {
   "cell_type": "markdown",
   "id": "69dfed8e-4130-4655-a6fc-c03c5ab72510",
   "metadata": {},
   "source": [
    "## List data science libraries\n",
    "Some of the commonly used libraries used by Data Scientists include:\n",
    "1. Pandas\n",
    "2. Matplotlib\n",
    "3. ggplot2\n",
    "4. caret\n",
    "5. TensorFlow\n",
    "6. Seaborn\n",
    "7. PyTorch\n",
    "8. Numpy\n",
    "9. Scikit-learn"
   ]
  },
  {
   "cell_type": "markdown",
   "id": "9e9071aa-438b-49a7-a017-8bd583e0d32c",
   "metadata": {},
   "source": [
    "## Data Science Tools\n",
    "The table below summarizes some of the popular tools used in Data Science:\n",
    "\n",
    "| Tool                 |  Category                   |\n",
    "|----------------------|-----------------------------|\n",
    "| Jupyter Notebook     |  Environment                |\n",
    "| R                    |  Programming Language       |\n",
    "| Python               |  Programming Language       |\n",
    "| Pandas               |  Library (Python)           |\n",
    "| Matplotlib           |  Library (Python)           |\n",
    "| TensorFlow           |  Library (Python)           |\n",
    "| ggplot2              |  Library (R)                |"
   ]
  },
  {
   "cell_type": "markdown",
   "id": "b08614ae-f729-4383-8450-70612804026f",
   "metadata": {},
   "source": [
    "## Arithmetic Expressions in Python\n",
    "Below are a few examples of evaluating arithmetic expressions in Python"
   ]
  },
  {
   "cell_type": "code",
   "execution_count": 12,
   "id": "deff952c-e414-494e-8f11-075353aac2b3",
   "metadata": {},
   "outputs": [
    {
     "name": "stdout",
     "output_type": "stream",
     "text": [
      "17\n"
     ]
    }
   ],
   "source": [
    "# This a simple arithmetic expression to mutiply then add integers\n",
    "print((3 * 4) + 5)"
   ]
  },
  {
   "cell_type": "code",
   "execution_count": 14,
   "id": "886657d6-a276-4d30-bfde-092543b0e4f2",
   "metadata": {},
   "outputs": [
    {
     "name": "stdout",
     "output_type": "stream",
     "text": [
      "3.3333333333333335\n"
     ]
    }
   ],
   "source": [
    "#  This will convert 200 minutes to hours by diving by 60\n",
    "minutes = 200\n",
    "hours = minutes / 60\n",
    "print(hours)"
   ]
  },
  {
   "cell_type": "markdown",
   "id": "bc5e16c9-a79c-4cfa-9968-ab94b005ca7f",
   "metadata": {},
   "source": [
    "## Author\n",
    "This notebook was created by **Xuan Cuong**"
   ]
  },
  {
   "cell_type": "code",
   "execution_count": null,
   "id": "4efe78e2-a534-4977-9c52-75a71a87b08c",
   "metadata": {},
   "outputs": [],
   "source": []
  }
 ],
 "metadata": {
  "kernelspec": {
   "display_name": "anaconda-ai-2024.04-py310",
   "language": "python",
   "name": "conda-env-anaconda-ai-2024.04-py310-py"
  },
  "language_info": {
   "codemirror_mode": {
    "name": "ipython",
    "version": 3
   },
   "file_extension": ".py",
   "mimetype": "text/x-python",
   "name": "python",
   "nbconvert_exporter": "python",
   "pygments_lexer": "ipython3",
   "version": "3.10.13"
  }
 },
 "nbformat": 4,
 "nbformat_minor": 5
}
